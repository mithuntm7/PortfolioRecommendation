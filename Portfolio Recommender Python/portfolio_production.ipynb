{
  "cells": [
    {
      "cell_type": "markdown",
      "metadata": {
        "id": "F1VMm8BPr5kn"
      },
      "source": [
        "# PySpark Setup"
      ]
    },
    {
      "cell_type": "code",
      "execution_count": 1,
      "metadata": {
        "colab": {
          "base_uri": "https://localhost:8080/",
          "height": 237
        },
        "id": "R5EMXbcPo_6w",
        "outputId": "e4db6b0e-3d63-4d3c-83aa-31b7dfeb959d"
      },
      "outputs": [
        {
          "output_type": "stream",
          "name": "stdout",
          "text": [
            "Mounted at /content/drive\n"
          ]
        },
        {
          "output_type": "execute_result",
          "data": {
            "text/html": [
              "\n",
              "            <div>\n",
              "                <p><b>SparkSession - in-memory</b></p>\n",
              "                \n",
              "        <div>\n",
              "            <p><b>SparkContext</b></p>\n",
              "\n",
              "            <p><a href=\"http://f3a0f5608981:4050\">Spark UI</a></p>\n",
              "\n",
              "            <dl>\n",
              "              <dt>Version</dt>\n",
              "                <dd><code>v3.0.3</code></dd>\n",
              "              <dt>Master</dt>\n",
              "                <dd><code>local</code></dd>\n",
              "              <dt>AppName</dt>\n",
              "                <dd><code>Colab</code></dd>\n",
              "            </dl>\n",
              "        </div>\n",
              "        \n",
              "            </div>\n",
              "        "
            ],
            "text/plain": [
              "<pyspark.sql.session.SparkSession at 0x7fa3e5827610>"
            ]
          },
          "metadata": {},
          "execution_count": 1
        }
      ],
      "source": [
        "#######################################\n",
        "###!@0 START INIT ENVIRONMENT\n",
        "from google.colab import drive\n",
        "drive.mount('/content/drive')\n",
        "!apt-get install openjdk-8-jdk-headless -qq > /dev/null\n",
        "#!wget -q https://mirrors.estointernet.in/apache/spark/spark-3.0.3/spark-3.0.3-bin-hadoop2.7.tgz -P /content/drive/MyDrive # link wrong in blog\n",
        "!tar xf /content/drive/Shareddrives/DA231-2021-Aug-Public/spark-3.0.3-bin-hadoop2.7.tgz\n",
        "!pip install -q findspark\n",
        "import os\n",
        "os.environ[\"JAVA_HOME\"] = \"/usr/lib/jvm/java-8-openjdk-amd64\"\n",
        "os.environ[\"SPARK_HOME\"] = \"/content/spark-3.0.3-bin-hadoop2.7\"\n",
        "\n",
        "###!@0 END INIT ENVIRONMENT\n",
        "\n",
        "#######################################\n",
        "###!@1 START OF PYSPARK INIT\n",
        "# Provides findspark.init() to make pyspark importable as a regular library.\n",
        "# Resource : https://pypi.org/project/findspark/\n",
        "import findspark\n",
        "findspark.init()\n",
        "findspark.find()\n",
        "from pyspark.sql import SparkSession\n",
        "spark = SparkSession.builder\\\n",
        "         .master(\"local\")\\\n",
        "         .appName(\"Colab\")\\\n",
        "         .config('spark.ui.port', '4050')\\\n",
        "         .getOrCreate()\n",
        "spark\n",
        "# Spark is ready to go within Colab!\n",
        "###!@1 END OF PYSPARK INIT"
      ]
    },
    {
      "cell_type": "markdown",
      "source": [
        "# Downloading yahoo finance"
      ],
      "metadata": {
        "id": "HSfbmTZ8LECd"
      }
    },
    {
      "cell_type": "code",
      "execution_count": 3,
      "metadata": {
        "colab": {
          "base_uri": "https://localhost:8080/"
        },
        "id": "7MsiMPK3ul75",
        "outputId": "8db92eb4-7783-41e0-f58f-1e034e2468a7"
      },
      "outputs": [
        {
          "output_type": "stream",
          "name": "stdout",
          "text": [
            "Collecting yfinance\n",
            "  Downloading yfinance-0.1.67-py2.py3-none-any.whl (25 kB)\n",
            "Requirement already satisfied: numpy>=1.15 in /usr/local/lib/python3.7/dist-packages (from yfinance) (1.19.5)\n",
            "Requirement already satisfied: multitasking>=0.0.7 in /usr/local/lib/python3.7/dist-packages (from yfinance) (0.0.10)\n",
            "Requirement already satisfied: pandas>=0.24 in /usr/local/lib/python3.7/dist-packages (from yfinance) (1.1.5)\n",
            "Requirement already satisfied: requests>=2.20 in /usr/local/lib/python3.7/dist-packages (from yfinance) (2.23.0)\n",
            "Collecting lxml>=4.5.1\n",
            "  Downloading lxml-4.6.4-cp37-cp37m-manylinux_2_17_x86_64.manylinux2014_x86_64.manylinux_2_24_x86_64.whl (6.3 MB)\n",
            "\u001b[K     |████████████████████████████████| 6.3 MB 5.8 MB/s \n",
            "\u001b[?25hRequirement already satisfied: pytz>=2017.2 in /usr/local/lib/python3.7/dist-packages (from pandas>=0.24->yfinance) (2018.9)\n",
            "Requirement already satisfied: python-dateutil>=2.7.3 in /usr/local/lib/python3.7/dist-packages (from pandas>=0.24->yfinance) (2.8.2)\n",
            "Requirement already satisfied: six>=1.5 in /usr/local/lib/python3.7/dist-packages (from python-dateutil>=2.7.3->pandas>=0.24->yfinance) (1.15.0)\n",
            "Requirement already satisfied: chardet<4,>=3.0.2 in /usr/local/lib/python3.7/dist-packages (from requests>=2.20->yfinance) (3.0.4)\n",
            "Requirement already satisfied: urllib3!=1.25.0,!=1.25.1,<1.26,>=1.21.1 in /usr/local/lib/python3.7/dist-packages (from requests>=2.20->yfinance) (1.24.3)\n",
            "Requirement already satisfied: idna<3,>=2.5 in /usr/local/lib/python3.7/dist-packages (from requests>=2.20->yfinance) (2.10)\n",
            "Requirement already satisfied: certifi>=2017.4.17 in /usr/local/lib/python3.7/dist-packages (from requests>=2.20->yfinance) (2021.10.8)\n",
            "Installing collected packages: lxml, yfinance\n",
            "  Attempting uninstall: lxml\n",
            "    Found existing installation: lxml 4.2.6\n",
            "    Uninstalling lxml-4.2.6:\n",
            "      Successfully uninstalled lxml-4.2.6\n",
            "Successfully installed lxml-4.6.4 yfinance-0.1.67\n"
          ]
        }
      ],
      "source": [
        "! pip install yfinance"
      ]
    },
    {
      "cell_type": "markdown",
      "source": [
        "# Code Structure\n",
        "# 1. Imports and Path definitions\n",
        "# 2. Sample data download using yahoo finance and trading data plot \n",
        "# 3. Trading Data Fetcher\n",
        "# 4. Function Definitions\n",
        "# 5. End-to-End Functions in Action\n",
        "# 6. Evaluations of scaling "
      ],
      "metadata": {
        "id": "-LRFXnmU6dEu"
      }
    },
    {
      "cell_type": "markdown",
      "source": [
        "Note : Sample data fetcher takes time to fetch trading data for all the coins / stocks"
      ],
      "metadata": {
        "id": "jtomtt6hMBJp"
      }
    },
    {
      "cell_type": "markdown",
      "source": [
        "# 1. Default Imports and Data Path Definition"
      ],
      "metadata": {
        "id": "C9UJmNOz6vQ0"
      }
    },
    {
      "cell_type": "code",
      "source": [
        "# other necessary imports\n",
        "import pandas as pd\n",
        "import yfinance as yf\n",
        "import datetime\n",
        "import requests\n",
        "import io\n",
        "import time\n",
        "import pyspark.sql.functions as F\n",
        "from pyspark.sql.window import Window\n",
        "import math\n",
        "import time\n",
        "\n",
        "path = '/content/drive/Shareddrives/DA231 Project - Portfolio Recommendation/Datasets/'"
      ],
      "metadata": {
        "id": "iL4dK4jD6y-t"
      },
      "execution_count": 20,
      "outputs": []
    },
    {
      "cell_type": "markdown",
      "source": [
        "#2. Sample data download using yahoo finance and trading data plot"
      ],
      "metadata": {
        "id": "zfWr6sZy6iSz"
      }
    },
    {
      "cell_type": "code",
      "execution_count": 22,
      "metadata": {
        "colab": {
          "base_uri": "https://localhost:8080/",
          "height": 573
        },
        "id": "Eyg_n9Sfuqtw",
        "outputId": "e9274872-5837-4cb0-c068-c7efda736ea0"
      },
      "outputs": [
        {
          "output_type": "execute_result",
          "data": {
            "text/plain": [
              "<matplotlib.axes._subplots.AxesSubplot at 0x7f9042b84490>"
            ]
          },
          "metadata": {},
          "execution_count": 22
        },
        {
          "output_type": "display_data",
          "data": {
            "image/png": "[encoded data removed]",
            "text/plain": [
              "<Figure size 1440x720 with 1 Axes>"
            ]
          },
          "metadata": {
            "needs_background": "light"
          }
        }
      ],
      "source": [
        "# Get trading data for a scrip name\n",
        "# TCS trading data \n",
        "\n",
        "start = datetime.datetime(2014,10,1)\n",
        "end = datetime.datetime(2021,12,9)\n",
        "\n",
        "stock = yf.download('TCS.NS',start=start, end=end, progress=False)\n",
        "stock['date']= stock.index\n",
        "stock.plot(x = 'date', y='Close', figsize=(20, 10) )"
      ]
    },
    {
      "cell_type": "markdown",
      "source": [
        "# 3. Trading Data Fetcher\n",
        "\n",
        "For fetching trading data of stocks and cryptos"
      ],
      "metadata": {
        "id": "QxL55dVq7KGb"
      }
    },
    {
      "cell_type": "markdown",
      "source": [
        "## 3.1 Trading Data Fetcher Cryptos"
      ],
      "metadata": {
        "id": "61rIWApULiUU"
      }
    },
    {
      "cell_type": "code",
      "execution_count": null,
      "metadata": {
        "id": "7U91QSx7mxw2"
      },
      "outputs": [],
      "source": [
        "# Reading scrip names for different bitcoins (downloaded from web)\n",
        "# Adding a sting '-USD' at the end of scrip name to fetch coin data in USD\n",
        "\n",
        "\n",
        "coins_scrip = spark.read.parquet(path+'coins_shortlisted').toPandas()\n",
        "coins_scrip['ticker'] = coins_scrip['ticker'] + '-USD'\n",
        "symbols = coins_scrip['ticker'].tolist()"
      ]
    },
    {
      "cell_type": "code",
      "execution_count": null,
      "metadata": {
        "colab": {
          "background_save": true
        },
        "id": "taJ8YdCWFaA3"
      },
      "outputs": [],
      "source": [
        "# ITERATIVELY DONWLOAD COIN DATA OF SEVERAL COMPANIES\n",
        "# create empty dataframe\n",
        "\n",
        "start = datetime.datetime(2014,10,1)\n",
        "end = datetime.datetime(2021,12,8)\n",
        "\n",
        "coins_final = pd.DataFrame()\n",
        "# iterate over each symbol\n",
        "for i in symbols:  \n",
        "    \n",
        "    # print the symbol which is being downloaded\n",
        "    print( str(symbols.index(i)) + str(' : ') + i, sep=',', end=',', flush=True)  \n",
        "    \n",
        "    try:\n",
        "        # download the stock price \n",
        "        stock = []\n",
        "        stock = yf.download(i,start=start, end=end, progress=False)\n",
        "        \n",
        "        # append the individual stock prices \n",
        "        if len(stock) == 0:\n",
        "            None\n",
        "        else:\n",
        "            stock['Name']=i\n",
        "            coins_final = coins_final.append(stock,sort=False)\n",
        "    except Exception:\n",
        "        None"
      ]
    },
    {
      "cell_type": "code",
      "execution_count": null,
      "metadata": {
        "colab": {
          "background_save": true
        },
        "id": "U-dKRcvgmftI"
      },
      "outputs": [],
      "source": [
        "# Writing the coin data to a csv\n",
        "\n",
        "coins_final.to_csv(path+'coins_trading_data_new.csv')"
      ]
    },
    {
      "cell_type": "markdown",
      "source": [
        "## 3.2 Trading Data Fetcher Stocks"
      ],
      "metadata": {
        "id": "WwRBXqTnLnwc"
      }
    },
    {
      "cell_type": "code",
      "execution_count": 71,
      "metadata": {
        "id": "NcSO9XX9oRLS"
      },
      "outputs": [],
      "source": [
        "# Reading scrip name for NSE stocks usin trading snapshot file downloaded from NSE website\n",
        "\n",
        "stock_scrips = pd.read_csv(path+'stocks_base_file.csv')\n",
        "stock_scrips['scrip'] = stock_scrips['SYMBOL'] +'.NS' \n",
        "stock_symbols = stock_scrips['scrip'].tolist()"
      ]
    },
    {
      "cell_type": "code",
      "execution_count": 73,
      "metadata": {
        "id": "-SxuIL87qtLH"
      },
      "outputs": [],
      "source": [
        "# ITERATIVELY DONWLOAD STOCK DATA OF SEVERAL COMPANIES\n",
        "# create empty dataframe\n",
        "\n",
        "start = datetime.datetime(2021,12,7)\n",
        "end = datetime.datetime(2021,12,8)\n",
        "\n",
        "stocks_final = pd.DataFrame()\n",
        "# iterate over each symbol\n",
        "for i in stock_symbols:  \n",
        "    \n",
        "    # print the symbol which is being downloaded\n",
        "    print( str(stock_symbols.index(i)) + str(' : ') + i, sep=',', end=',', flush=True)  \n",
        "    \n",
        "    try:\n",
        "        # download the stock price \n",
        "        stock = []\n",
        "        stock = yf.download(i,start=start, end=end, progress=False)\n",
        "        \n",
        "        # append the individual stock prices \n",
        "        if len(stock) == 0:\n",
        "            None\n",
        "        else:\n",
        "            stock['Name']=i\n",
        "            stocks_final = stocks_final.append(stock,sort=False)\n",
        "    except Exception:\n",
        "        None"
      ]
    },
    {
      "cell_type": "code",
      "execution_count": null,
      "metadata": {
        "id": "M481Xv1wijAV"
      },
      "outputs": [],
      "source": [
        "# Writing stock data to csv\n",
        "\n",
        "stocks_final_new = stocks_final\n",
        "stocks_final_new['date_time']  =  stocks_final_new.index\n",
        "stocks_final_new.to_csv(path+\"stocks_trading_data_new.csv\")"
      ]
    },
    {
      "cell_type": "code",
      "execution_count": null,
      "metadata": {
        "id": "anBN5V_pbZYb"
      },
      "outputs": [],
      "source": [
        "# Downloading nifty 50 index data\n",
        "\n",
        "stocks_index = yf.download('^NSEI',start=datetime.datetime(2010,1,1), end=datetime.datetime(2021,12,8), progress=False)\n",
        "stocks_index['date_time'] = stocks_index.index\n",
        "\n",
        "stocks_index.to_csv(\"drive/Shareddrives/DA231 Project - Portfolio Recommendation/Datasets/stocks_index_trading_data.csv\")\n",
        "stocks_index_spark_df = spark.createDataFrame(stocks_index[stocks_index['date_time'] >= '2020-01-01 00:00:00'])"
      ]
    },
    {
      "cell_type": "markdown",
      "metadata": {
        "id": "Y_Fj1d7EoD1G"
      },
      "source": [
        "# Run from here after running the imports to send the trading data fetched for portfolio generation"
      ]
    },
    {
      "cell_type": "markdown",
      "source": [
        "# 4. Function Definitions\n"
      ],
      "metadata": {
        "id": "JUTjxPBdFmkm"
      }
    },
    {
      "cell_type": "markdown",
      "source": [
        "## 4.1 Filter Stocks"
      ],
      "metadata": {
        "id": "4qVoqPAmFpcK"
      }
    },
    {
      "cell_type": "code",
      "execution_count": 14,
      "metadata": {
        "id": "fA7SPOqhckWv"
      },
      "outputs": [],
      "source": [
        "# Method to filter stocks\n",
        "\n",
        "from pyspark.sql.functions import col\n",
        "def selectStocks(marketCapCutOffCount = 750, minDateForTradedVolMean = '2019-12-31', totalListSize = 500, recencyFactor = 4, minDataCountForYear = 200):\n",
        "  stockDataMcapFile = path+ 'stock-mcap-final.csv'\n",
        "  stockTradingDataFile = path  + 'stocks_trading_data_new.csv'\n",
        "  stockMcapData = spark.read.option(\"header\",True).option(\"inferSchema\",True).csv(stockDataMcapFile)\n",
        "  stockMcap = stockMcapData.where(col('Symbol').isNotNull()).where(col('Company Name').isNotNull()).where(col('Market capitalization').isNotNull())\\\n",
        "                         .withColumn(\"market-cap\", col(\"Market capitalization\").cast('int'))\n",
        "  stockTradingData = spark.read.option(\"header\",True).option(\"inferSchema\",True).csv(stockTradingDataFile)\n",
        "  stockTradingDataRecency = stockTradingData.withColumn(\"Year\", F.year(\"date_time\")).groupby(\"Name\", \"Year\").count()\n",
        "  stockTradingData = stockTradingData.select(\"Name\", \"Volume\", \"date_time\").where(col(\"date_time\") > minDateForTradedVolMean)\n",
        "\n",
        "  mCapDataWithRecency = stockMcap.join(stockTradingDataRecency, stockMcap.Symbol == F.expr(\"substring(Name, 0, length(Name)-3)\")).where(col(\"Year\") > 2021 - recencyFactor)\\\n",
        "                  .where(col(\"count\") > minDataCountForYear ).select(\"Name\", \"Year\", \"Count\", \"market-cap\")\\\n",
        "                  .groupby(\"Name\", \"market-cap\").count().where(col(\"count\") == recencyFactor)\n",
        "  top750StocksByMarketCap = mCapDataWithRecency.withColumn(\"rank\", F.rank().over(Window.orderBy(F.desc(\"market-cap\"))))\\\n",
        "                                   .where(col(\"rank\") <= marketCapCutOffCount)\n",
        "\n",
        "  volTradedMean = stockTradingData.groupby(\"Name\").avg(\"Volume\")\\\n",
        "                         .withColumnRenamed(\"avg(Volume)\", \"traded_vol_mean\").withColumnRenamed(\"Name\", \"Symbol\")\n",
        "  # Ratio of avg traded volume with market capitalization and select top 500 for analysis\n",
        "  volToMcap = volTradedMean.join(top750StocksByMarketCap, volTradedMean.Symbol == top750StocksByMarketCap.Name)\\\n",
        "                         .select(\"Name\", \"market-cap\", \"traded_vol_mean\")\\\n",
        "                         .withColumn(\"vol/mCap\", col(\"traded_vol_mean\")/F.sqrt(col(\"market-cap\")))\\\n",
        "                         .withColumn(\"rank\", F.rank().over(Window.orderBy(F.desc(\"vol/mCap\"))))\\\n",
        "                         .where(col(\"rank\") <= totalListSize)\\\n",
        "                         .select(\"Name\", \"vol/mCap\", \"rank\")\n",
        "\n",
        "  tickerStrings = volToMcap.select(\"Name\").collect()\n",
        "  stockList = []\n",
        "  for ticker in tickerStrings:\n",
        "    stockList.append(ticker[0])\n",
        "\n",
        "  return stockList"
      ]
    },
    {
      "cell_type": "markdown",
      "source": [
        "## 4.2 Filter Cryptos"
      ],
      "metadata": {
        "id": "cAxaUVviGA_n"
      }
    },
    {
      "cell_type": "code",
      "execution_count": 82,
      "metadata": {
        "id": "Wot-4viUqA45"
      },
      "outputs": [],
      "source": [
        "def cryptoCurrencyShortlist(RawDataDf, recencyCutoff = 30):\n",
        "  # Remove any blanks found on crypto_name column\n",
        "  RawDF = spark.read.csv(path+\"crypto_tradinds.csv\")\n",
        "  cryptoCleaned = RawDataDf.withColumn(\"trade_date\",RawDataDf[\"trade_date\"].cast(\"Date\")) \\\n",
        "  .where( (col(\"crypto_name\").isNotNull()) & (col(\"crypto_name\")!=''))\n",
        "\n",
        "  # Compute the max date, recency cutoff date and marketcap cutoff date relative to maximum date\n",
        "  maxDatedf=cryptoCleaned.select(F.max(\"trade_date\").alias(\"maxDate\"),\n",
        "                                  F.date_add(F.max(\"trade_date\"), - recencyCutoff).alias('recency_cutoff_date')                                  \n",
        "                                  )\n",
        "\n",
        "  # Apply recency filter\n",
        "  cryptoRecent = cryptoCleaned.where(col(\"trade_date\")>maxDatedf.first()[\"recency_cutoff_date\"]).select(\"ticker\",\"crypto_name\")\n",
        "\n",
        "  # Remove cases where multiple crypto_name  has the same ticker\n",
        "  cryptos = cryptoRecent.withColumn('cnts', F.count('Name').over(Window.partitionBy('ticker'))) \\\n",
        "  .filter(\"cnts = 1\") \\\n",
        "  .select(['Name', 'ticker'])\n",
        "\n",
        "  return cryptos"
      ]
    },
    {
      "cell_type": "markdown",
      "source": [
        "## 4.3 Find Portfolio"
      ],
      "metadata": {
        "id": "J1oyvRlPGkpq"
      }
    },
    {
      "cell_type": "code",
      "execution_count": 8,
      "metadata": {
        "id": "MH6jkrGreASl"
      },
      "outputs": [],
      "source": [
        "# Method to find portfolio\n",
        "# Arguments \n",
        "# trading_df = daily trading data of different scips\n",
        "# index_df = daily trading data of the benchmarking index of the market\n",
        "# price_column, price_column_index = closing price column for scrip / index\n",
        "# scrip_column = scrip identifier column\n",
        "# amount = basic unit of investment\n",
        "# risk_free_return = avg return for 1 year FD (minimum risk)\n",
        "# num_scrips = number of scrips to be in the portfolio\n",
        "# exclude_yr = year that needs to be excluded \n",
        "## asset_type = 'S for stocks else coins\n",
        "\n",
        "def get_portfolio(trading_df, index_df, price_column, price_column_index, scrip_column, amount=500000, risk_free_retun = 0.04, num_scrips = 20, exclude_yr = 2020, asset_type = 'S') :  \n",
        "  index_edited = index_df \\\n",
        "  .withColumn('dt', F.expr(\"date(date_time)\")) \\\n",
        "  .withColumn('index_price',F.col(price_column)) \\\n",
        "  .select(\"dt\",'index_price')\n",
        "\n",
        "  if(asset_type == 'S'):\n",
        "    amount_threshold = 10\n",
        "    denominator = num_scrips\n",
        "    latest_price = trading_df.withColumn('dt', F.expr(\"date(date_time)\")).filter(\"dt = '2021-12-06'\") \\\n",
        "    .select(scrip_column, price_column) \\\n",
        "    .filter(\"{} <= {}/{} and {} > {}\".format(price_column, amount, denominator, price_column,amount_threshold))\n",
        "\n",
        "  else :\n",
        "    latest_price = trading_df.withColumn('dt', F.expr(\"date(date_time)\")).filter(\"dt = '2021-12-06'\") \\\n",
        "    .select(scrip_column, price_column)\n",
        "\n",
        "\n",
        "\n",
        "  trading_df_edited = trading_df.withColumn('dt', F.expr(\"date(date_time)\")) \\\n",
        "  .withColumn('price',F.col(price_column)) \\\n",
        "  .join(index_edited, ['dt'], 'inner') \\\n",
        "  .join(latest_price.select(scrip_column), [scrip_column], 'inner')\n",
        "\n",
        "## calculate returns wrt to same day of week, week of the year previous year\n",
        "  yearly_returns = trading_df_edited.withColumn('year', F.expr(\"year(dt)\")) \\\n",
        "  .withColumn('week_num', F.expr(\"weekofyear(dt)\")) \\\n",
        "  .withColumn('dayofweek', F.expr(\"dayofweek(dt)\")) \\\n",
        "  .withColumn('closing_price_sd_ly', F.lag('price').over(Window.partitionBy(scrip_column,'week_num','dayofweek').orderBy('year'))) \\\n",
        "  .withColumn('return', F.expr(\"price/closing_price_sd_ly - 1\")) \\\n",
        "  .withColumn('closing_price_sd_ly_index', F.lag('index_price').over(Window.partitionBy(scrip_column,'week_num','dayofweek').orderBy('year'))) \\\n",
        "  .withColumn('index_return', F.expr(\"index_price/closing_price_sd_ly_index - 1\"))\n",
        "\n",
        "## calculate risk = stddev\n",
        "  metrics = yearly_returns \\\n",
        "  .filter(\"year >= {}\".format(exclude_yr)) \\\n",
        "  .groupby(scrip_column) \\\n",
        "  .agg(F.stddev('return').alias('stdev_return'), F.avg('return').alias('avg_return'), F.count('dt').alias('datapoints'), \n",
        "       F.avg('index_return').alias('avg_index_return')) \\\n",
        "  \n",
        "## calculate beta, sharp ratio\n",
        "  aggregated = yearly_returns.join(metrics, [scrip_column], 'inner') \\\n",
        "  .groupBy(scrip_column).agg(F.avg('stdev_return').alias('risk_scrip'), \n",
        "                             F.avg(F.expr(\"(return-avg_return)*(index_return - avg_index_return)\")).alias('covariance'), \n",
        "                             F.avg(F.expr(\"(index_return - avg_index_return)*(index_return - avg_index_return)\")).alias('variance'),\n",
        "                             F.avg('avg_return').alias('avg_return'),\n",
        "                             F.avg(\"avg_index_return\").alias(\"avg_index_return\")) \\\n",
        "                             .select(scrip_column, F.expr(\"covariance/variance\").alias('beta'), \n",
        "                                     F.expr(\"(avg_return - {})/risk_scrip\".format(risk_free_retun)).alias('sharpe_ratio'), 'risk_scrip','covariance')\n",
        "                             \n",
        "  \n",
        "  bucketed = aggregated.withColumn('risk_perc', F.ntile(5).over(Window.partitionBy().orderBy('risk_scrip'))) \\\n",
        "  .withColumn('beta_perc', F.ntile(3).over(Window.partitionBy('risk_perc').orderBy('beta')))\n",
        "\n",
        " ## find portfolio => for each risk profile and hedging preferenc find the assets that would go inside the portfolio \n",
        "  dist_mapping = {0: [0.5,0.3,0.2], 1:[1/3,1/3,1/3], 2: [0.2,0.3,0.5]}\n",
        "  stock_counts = {}\n",
        "  hedges = {}\n",
        "  for i in range(3):\n",
        "    stock_counts[i] = [math.ceil(x*num_scrips) for x in dist_mapping[i]]  \n",
        "    hedges[i] = bucketed.withColumn('stock_priority', F.row_number().over(Window.partitionBy('risk_perc','beta_perc').orderBy(F.desc('sharpe_ratio')))) \\\n",
        "    .filter(\"(beta_perc = 1 and stock_priority <= {}) or (beta_perc = 2 and stock_priority <= {}) or (beta_perc = 3 and stock_priority <= {})\"\n",
        "    .format(stock_counts[i][0],stock_counts[i][1], stock_counts[i][2])) \\\n",
        "    .withColumn('hedge_category', F.lit(i))\n",
        "  \n",
        "  selections = hedges[0].union(hedges[1].union(hedges[2]))\n",
        "\n",
        "  if(asset_type == 'S') :\n",
        "    hedge_cat_selections = selections \\\n",
        "    .join(latest_price.select(scrip_column, F.col(price_column).alias(\"latest_price\")), [scrip_column], 'inner') \\\n",
        "    .withColumn('qty', F.expr(\"round({}/({}*latest_price))\".format(amount,num_scrips)))\n",
        "  \n",
        "  else :\n",
        "    hedge_cat_selections = selections \\\n",
        "    .join(latest_price.select(scrip_column, F.col(price_column).alias(\"latest_price\")), [scrip_column], 'inner') \\\n",
        "    .withColumn('qty', F.expr(\"({}/({}*latest_price))\".format(amount,num_scrips)))\n",
        "\n",
        "## Map scrip to asset name\n",
        "  stock_mapping = spark.read.csv(path+ 'stock_mapping.csv', header = True)\n",
        "  coin_mapping = spark.read.csv(path+ 'coin_mapping.csv', header = True)\n",
        "\n",
        "  mapping = stock_mapping.union(coin_mapping)\n",
        "\n",
        "  output = hedge_cat_selections.join(mapping, [scrip_column], 'inner')\n",
        "\n",
        "\n",
        "  return output                                    "
      ]
    },
    {
      "cell_type": "markdown",
      "source": [
        "# 5. End to end functions in action"
      ],
      "metadata": {
        "id": "E4FL_MleGtsF"
      }
    },
    {
      "cell_type": "markdown",
      "source": [
        "## 5.1 Generate Portfolio for stocks"
      ],
      "metadata": {
        "id": "Q5DKtVJYG0OB"
      }
    },
    {
      "cell_type": "markdown",
      "source": [
        "### 5.1.1 Filter Stocks "
      ],
      "metadata": {
        "id": "p9CyaB4fG4iq"
      }
    },
    {
      "cell_type": "code",
      "execution_count": 15,
      "metadata": {
        "id": "4-CHQ6MnfWxt"
      },
      "outputs": [],
      "source": [
        "scrips = selectStocks(marketCapCutOffCount = 1500, minDateForTradedVolMean = '2019-12-31', totalListSize = 1000, recencyFactor = 4, minDataCountForYear = 200)\n",
        "stocks_to_be_evaluated = spark.createDataFrame(pd.DataFrame(data=scrips, columns = ['Name']))"
      ]
    },
    {
      "cell_type": "code",
      "source": [
        "scrips[:10]"
      ],
      "metadata": {
        "colab": {
          "base_uri": "https://localhost:8080/"
        },
        "id": "XDS8iLL4n6rM",
        "outputId": "02fad7cb-1c05-4c98-e797-88229ba555b9"
      },
      "execution_count": 18,
      "outputs": [
        {
          "output_type": "execute_result",
          "data": {
            "text/plain": [
              "['IDEA.NS',\n",
              " 'RCOM.NS',\n",
              " 'RPOWER.NS',\n",
              " 'YESBANK.NS',\n",
              " 'JPPOWER.NS',\n",
              " 'SITINET.NS',\n",
              " 'SOUTHBANK.NS',\n",
              " 'GTLINFRA.NS',\n",
              " 'VIKASECO.NS',\n",
              " 'BHEL.NS']"
            ]
          },
          "metadata": {},
          "execution_count": 18
        }
      ]
    },
    {
      "cell_type": "markdown",
      "source": [
        "### 5.1.2 Send the filtered data for portfolio generation"
      ],
      "metadata": {
        "id": "ScgPMulfHZPf"
      }
    },
    {
      "cell_type": "code",
      "execution_count": 16,
      "metadata": {
        "id": "pdE5WN44hIZT",
        "colab": {
          "base_uri": "https://localhost:8080/"
        },
        "outputId": "4e70886b-9a25-4710-9f45-4060c5640079"
      },
      "outputs": [
        {
          "output_type": "stream",
          "name": "stdout",
          "text": [
            "+-------------+------------------+------------------+-------------------+--------------------+---------+---------+--------------+--------------+------------------+----+--------------------+----------+\n",
            "|         Name|              beta|      sharpe_ratio|         risk_scrip|          covariance|risk_perc|beta_perc|stock_priority|hedge_category|      latest_price| qty|          Asset_Name|Asset_Type|\n",
            "+-------------+------------------+------------------+-------------------+--------------------+---------+---------+--------------+--------------+------------------+----+--------------------+----------+\n",
            "|  JUBLINDS.NS| 2.702649952656058| 2.305937458053214| 0.8323905502422977| 0.06453878184381026|        5|        1|             7|             0|            514.25| 5.0|Jubilant Industri...|     stock|\n",
            "|  JUBLINDS.NS| 2.702649952656058| 2.305937458053214| 0.8323905502422977| 0.06453878184381026|        5|        1|             7|             1|            514.25| 5.0|Jubilant Industri...|     stock|\n",
            "|   STLTECH.NS|2.2417117283810484|2.2997632025514965| 0.4711540672193151| 0.05353166215717729|        3|        3|            10|             2| 284.3500061035156| 9.0|Sterlite Technolo...|     stock|\n",
            "|      TRIL.NS|2.6729742992048124| 3.219830165291597| 0.5799241955835119| 0.06357794446940722|        4|        2|             2|             0|27.649999618530273|90.0|Transformers And ...|     stock|\n",
            "|      TRIL.NS|2.6729742992048124| 3.219830165291597| 0.5799241955835119| 0.06357794446940722|        4|        2|             2|             1|27.649999618530273|90.0|Transformers And ...|     stock|\n",
            "|      TRIL.NS|2.6729742992048124| 3.219830165291597| 0.5799241955835119| 0.06357794446940722|        4|        2|             2|             2|27.649999618530273|90.0|Transformers And ...|     stock|\n",
            "|CENTURYPLY.NS| 3.219009388064282|2.5924318777021385| 0.7016021854461942| 0.07686934981916115|        4|        3|             8|             2| 627.3499755859375| 4.0|Century Plyboards...|     stock|\n",
            "|     GOKUL.NS|1.2536062188772465| 2.458486997020511|0.42931052107926115|0.029935885037072972|        3|        1|             5|             0| 30.29999923706055|83.0|Gokul Refoils and...|     stock|\n",
            "|     GOKUL.NS|1.2536062188772465| 2.458486997020511|0.42931052107926115|0.029935885037072972|        3|        1|             5|             1| 30.29999923706055|83.0|Gokul Refoils and...|     stock|\n",
            "|  HBLPOWER.NS|2.2415016434185944| 3.686692791464642|0.49014293672337267|0.053526645367064626|        3|        3|             2|             0| 60.29999923706055|41.0|HBL Power Systems...|     stock|\n",
            "|  HBLPOWER.NS|2.2415016434185944| 3.686692791464642|0.49014293672337267|0.053526645367064626|        3|        3|             2|             1| 60.29999923706055|41.0|HBL Power Systems...|     stock|\n",
            "|  HBLPOWER.NS|2.2415016434185944| 3.686692791464642|0.49014293672337267|0.053526645367064626|        3|        3|             2|             2| 60.29999923706055|41.0|HBL Power Systems...|     stock|\n",
            "|SUPERHOUSE.NS|1.5097326749136244|2.7901590240125933|0.27921028435255857| 0.03605213751524349|        2|        2|             5|             0| 156.6999969482422|16.0|  Superhouse Limited|     stock|\n",
            "|SUPERHOUSE.NS|1.5097326749136244|2.7901590240125933|0.27921028435255857| 0.03605213751524349|        2|        2|             5|             1| 156.6999969482422|16.0|  Superhouse Limited|     stock|\n",
            "|SUPERHOUSE.NS|1.5097326749136244|2.7901590240125933|0.27921028435255857| 0.03605213751524349|        2|        2|             5|             2| 156.6999969482422|16.0|  Superhouse Limited|     stock|\n",
            "| ELGIRUBCO.NS| 2.071895616502562| 2.643669654941987|0.43360814026283556| 0.04947648476088928|        3|        2|             5|             0|36.099998474121094|69.0|Elgi Rubber Compa...|     stock|\n",
            "| ELGIRUBCO.NS| 2.071895616502562| 2.643669654941987|0.43360814026283556| 0.04947648476088928|        3|        2|             5|             1|36.099998474121094|69.0|Elgi Rubber Compa...|     stock|\n",
            "| ELGIRUBCO.NS| 2.071895616502562| 2.643669654941987|0.43360814026283556| 0.04947648476088928|        3|        2|             5|             2|36.099998474121094|69.0|Elgi Rubber Compa...|     stock|\n",
            "|    INDOCO.NS| 0.599826879113473|2.2058681847161132|0.30141381402466927|  0.0143237551193462|        2|        1|             8|             0| 418.1000061035156| 6.0|Indoco Remedies L...|     stock|\n",
            "|  TEJASNET.NS| 6.806703989920741| 2.298338671817775| 1.4982018158667718| 0.16254283446850537|        5|        3|             7|             1| 441.5499877929688| 6.0|Tejas Networks Li...|     stock|\n",
            "+-------------+------------------+------------------+-------------------+--------------------+---------+---------+--------------+--------------+------------------+----+--------------------+----------+\n",
            "only showing top 20 rows\n",
            "\n"
          ]
        }
      ],
      "source": [
        "# Reading stock data\n",
        "# Filtering 2 years of stock data\n",
        "\n",
        "stocks_final_new = pd.read_csv(path+'stocks_trading_data_new.csv')\n",
        "stocks_spark_df = spark.createDataFrame(stocks_final_new[stocks_final_new['date_time'] >= '2019-01-01 00:00:00'])\n",
        "\n",
        "\n",
        "# Reading stock index data\n",
        "# Filtering 2 years of stock index data\n",
        "\n",
        "stocks_index = pd.read_csv(path+'stocks_index_trading_data.csv')\n",
        "stocks_index_spark_df = spark.createDataFrame(stocks_index[stocks_index['date_time'] >= '2020-01-01 00:00:00'])\n",
        "\n",
        "input_df = stocks_spark_df.join(stocks_to_be_evaluated, ['Name'], 'inner')\n",
        "\n",
        "stocks_portfolio = get_portfolio(input_df, stocks_index_spark_df, 'Close', 'Close','Name', 50000,0.04,20, 2020, 'S')\n",
        "\n",
        "stocks_portfolio.show()\n",
        "#uncomment the below lne to write the results to a file\n",
        "#stocks_portfolio.toPandas().to_csv(path+'portfolio_recommendations.csv', index = False)"
      ]
    },
    {
      "cell_type": "code",
      "source": [
        "stocks_portfolio.filter(\"risk_perc = 1 and hedge_category = 1\").select('Asset_Type', 'Asset_Name', 'Name').show(20,False)"
      ],
      "metadata": {
        "colab": {
          "base_uri": "https://localhost:8080/"
        },
        "id": "Dz57xg72ovpv",
        "outputId": "a36a0975-fcfb-4649-b3b8-2aa107f5d02c"
      },
      "execution_count": 21,
      "outputs": [
        {
          "output_type": "stream",
          "name": "stdout",
          "text": [
            "+----------+---------------------------------------------+-------------+\n",
            "|Asset_Type|Asset_Name                                   |Name         |\n",
            "+----------+---------------------------------------------+-------------+\n",
            "|stock     |Aarti Industries Limited                     |AARTIIND.NS  |\n",
            "|stock     |Crompton Greaves Consumer Electricals Limited|CROMPTON.NS  |\n",
            "|stock     |Balkrishna Industries Limited                |BALKRISIND.NS|\n",
            "|stock     |Ravi Kumar Distilleries Limited              |RKDL.NS      |\n",
            "|stock     |Havells India Limited                        |HAVELLS.NS   |\n",
            "|stock     |The India Cements Limited                    |INDIACEM.NS  |\n",
            "|stock     |Marico Limited                               |MARICO.NS    |\n",
            "|stock     |Infosys Limited                              |INFY.NS      |\n",
            "|stock     |Manaksia Limited                             |MANAKSIA.NS  |\n",
            "|stock     |Navkar Corporation Limited                   |NAVKARCORP.NS|\n",
            "|stock     |Caplin Point Laboratories Limited            |CAPLIPOINT.NS|\n",
            "|stock     |Voltas Limited                               |VOLTAS.NS    |\n",
            "|stock     |Sun Pharmaceutical Industries Limited        |SUNPHARMA.NS |\n",
            "|stock     |Tech Mahindra Limited                        |TECHM.NS     |\n",
            "|stock     |Oricon Enterprises Limited                   |ORICONENT.NS |\n",
            "|stock     |Ambuja Cements Limited                       |AMBUJACEM.NS |\n",
            "|stock     |HCL Technologies Limited                     |HCLTECH.NS   |\n",
            "|stock     |Gujarat Sidhee Cement Limited                |GSCLCEMENT.NS|\n",
            "|stock     |TATA CONSUMER PRODUCTS LIMITED               |TATACONSUM.NS|\n",
            "|stock     |Narayana Hrudayalaya Ltd.                    |NH.NS        |\n",
            "+----------+---------------------------------------------+-------------+\n",
            "only showing top 20 rows\n",
            "\n"
          ]
        }
      ]
    },
    {
      "cell_type": "markdown",
      "source": [
        "## 5.2 Generate Portfolio for Crypto"
      ],
      "metadata": {
        "id": "pyXEzYeSH0VN"
      }
    },
    {
      "cell_type": "code",
      "execution_count": 48,
      "metadata": {
        "id": "yIlAx6cpdLjx"
      },
      "outputs": [],
      "source": [
        "coins_index = spark.read.csv(path+'updated_bench_crypto_data.csv', header = True) \\\n",
        ".withColumn('Close', F.expr(\"Close*75\")) \\\n",
        ".withColumnRenamed('Date', 'date_time')\n",
        "\n",
        "coins_trading = spark.read.csv(path+ 'coins_trading_data_new.csv', header = True) \\\n",
        ".withColumn('Close', F.expr(\"Close*75\")) \\\n",
        ".withColumnRenamed('Date', 'date_time')\n",
        "\n",
        "coins_portfolio = get_portfolio(coins_trading, coins_index, 'Close', 'Close','Name', 50000,0.04,20, 2019, 'C')\n",
        "coins_portfolio.toPandas().to_csv(path+'coins_portfolio_recommendations.csv', index = False)"
      ]
    },
    {
      "cell_type": "markdown",
      "source": [
        "# 6. Evaluations of scaling"
      ],
      "metadata": {
        "id": "wOZ8FckJJbx9"
      }
    },
    {
      "cell_type": "markdown",
      "source": [
        "## 6.1 \n",
        "#### Time taken for generating portfolio vs number of years of trading data\n",
        "#### Colab resources crash, so ran it on a separate databricks cluster for reporting "
      ],
      "metadata": {
        "id": "6SCEKDm9Joy2"
      }
    },
    {
      "cell_type": "code",
      "execution_count": null,
      "metadata": {
        "id": "hfEfviuoI8Xh"
      },
      "outputs": [],
      "source": [
        "times = {}\n",
        "\n",
        "stocks_final_new = pd.read_csv(path+'stocks_trading_data_new.csv')\n",
        "stocks_index = pd.read_csv(path+'stocks_index_trading_data.csv')\n",
        "\n",
        "for i in range(5):\n",
        "  print(\"iteration : \",i)\n",
        "  start_time = time.time()\n",
        "  x = 2020-i\n",
        "\n",
        "  input_stock = spark.createDataFrame(stocks_final_new[stocks_final_new['Date']>='{}-01-01'.format(x)])\n",
        "  input_index = spark.createDataFrame(stocks_index[stocks_index['date_time'] >= '{}-01-01 00:00:00'.format(x)])\n",
        "\n",
        "  df = get_portfolio(input_stock, input_index, 'Close', 'Close','Name', 50000,0.04,20, x)\n",
        "  print(\"Count rows : \", df.count())\n",
        "  end_time = time.time()\n",
        "  run_time = end_time - start_time\n",
        "  print(\"run time : \", run_time)\n",
        "  times[i]=run_time "
      ]
    },
    {
      "cell_type": "markdown",
      "source": [
        "## 6.2\n",
        "#### Time taken using pyspark dataframes vs pandas dataframes for calculating stock risk for different data sizes\n",
        "\n",
        "#### Replicated this evaluation on a databricks machine\n",
        "\n",
        "![image.png](data:image/png;base64,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)"
      ],
      "metadata": {
        "id": "DwCHbjS6KRc-"
      }
    },
    {
      "cell_type": "code",
      "execution_count": 51,
      "metadata": {
        "id": "3gXAJropEVr0"
      },
      "outputs": [],
      "source": [
        "def getstddevspark(df):\n",
        "  stddev = df.groupby('Name').agg(F.stddev('return'))\n",
        "  return stddev\n",
        "\n",
        "def getstddevpandas(df):\n",
        "  stddev = df.groupby('Name').agg({'return': 'std'})\n",
        "  return stddev"
      ]
    },
    {
      "cell_type": "code",
      "execution_count": 50,
      "metadata": {
        "id": "yNWYg4J0Lvfl"
      },
      "outputs": [],
      "source": [
        "df = pd.read_csv(path+'yearly_returns.csv')"
      ]
    },
    {
      "cell_type": "code",
      "execution_count": 78,
      "metadata": {
        "id": "nKbKlfRnLoBW"
      },
      "outputs": [],
      "source": [
        "spark_time = {}\n",
        "pandas_time = {}\n",
        "for i in range(10000,500000,10000):\n",
        "  print(\"iteration : \", i)\n",
        "  df_sampled = df.sample(i)\n",
        "  df_spark= spark.createDataFrame(df_sampled)\n",
        "  spark_start = time.time()\n",
        "  spark_stddev = getstddevspark(df_spark)\n",
        "  spark_stddev.count()\n",
        "  spark_end = time.time()\n",
        "  spark_time[i] = spark_end -spark_start\n",
        "  print(\"spark_time : \", spark_time[i])\n",
        "  pandas_start = time.time()\n",
        "  pandas_stddev = getstddevpandas(df_sampled)\n",
        "  len(pandas_stddev)\n",
        "  pandas_end = time.time()\n",
        "  pandas_time[i] = pandas_end - pandas_start\n",
        "  print(\"pandas_time : \", pandas_time[i])"
      ]
    }
  ],
  "metadata": {
    "colab": {
      "collapsed_sections": [
        "F1VMm8BPr5kn",
        "HSfbmTZ8LECd",
        "zrG9_DedLTp9",
        "zfWr6sZy6iSz",
        "C9UJmNOz6vQ0",
        "61rIWApULiUU",
        "WwRBXqTnLnwc",
        "4qVoqPAmFpcK",
        "cAxaUVviGA_n",
        "J1oyvRlPGkpq",
        "E4FL_MleGtsF",
        "Q5DKtVJYG0OB",
        "p9CyaB4fG4iq",
        "ScgPMulfHZPf",
        "pyXEzYeSH0VN",
        "6SCEKDm9Joy2",
        "DwCHbjS6KRc-"
      ],
      "name": "portfolio_production.ipynb",
      "provenance": []
    },
    "kernelspec": {
      "display_name": "Python 3",
      "name": "python3"
    },
    "language_info": {
      "name": "python"
    }
  },
  "nbformat": 4,
  "nbformat_minor": 0
}